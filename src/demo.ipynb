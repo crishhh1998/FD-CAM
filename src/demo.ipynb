{
 "cells": [
  {
   "cell_type": "code",
   "execution_count": null,
   "metadata": {},
   "outputs": [],
   "source": [
    "import torch\n",
    "from torchvision import transforms\n",
    "from PIL import Image\n",
    "from matplotlib import pylab as P\n",
    "import numpy as np\n",
    "from torchvision.models import vgg16\n",
    "from pytorch_grad_cam.utils.image import show_cam_on_image\n",
    "from fd_cam import FDCAM\n",
    "import warnings\n",
    "warnings.filterwarnings('ignore')"
   ]
  },
  {
   "cell_type": "code",
   "execution_count": null,
   "metadata": {},
   "outputs": [],
   "source": [
    "def Loadimage(path):\n",
    "  im = Image.open(path).convert(\"RGB\")\n",
    "  im = im.resize((224,224))\n",
    "  im = np.asarray(im)\n",
    "  return im\n",
    "def ShowImage(im, title='', ax=None):\n",
    "  if ax is None:\n",
    "    P.figure()\n",
    "  P.axis('off')\n",
    "  P.imshow(im)\n",
    "  P.title(title)\n",
    "  \n",
    "transform_normalize = transforms.Normalize(\n",
    "     mean=[0.485, 0.456, 0.406],\n",
    "     std=[0.229, 0.224, 0.225]\n",
    " )\n",
    "transform = transforms.Compose([\n",
    " transforms.Resize((224,224)),\n",
    " transforms.ToTensor(),\n",
    " transform_normalize\n",
    "])"
   ]
  },
  {
   "cell_type": "code",
   "execution_count": null,
   "metadata": {},
   "outputs": [],
   "source": [
    "model = vgg16(pretrained=True).eval()\n",
    "target_layers = [model.features[-1]]\n",
    "model = model.cuda()"
   ]
  },
  {
   "cell_type": "code",
   "execution_count": null,
   "metadata": {},
   "outputs": [],
   "source": [
    "img_path = '../images/henFence.jpg' \n",
    "\n",
    "img_orig = Image.open(img_path).convert('RGB')\n",
    "img3 = transform(img_orig)\n",
    "input_tensor = img3.unsqueeze(0)\n",
    "img_show = Loadimage(img_path)\n",
    "target_category = model(input_tensor.cuda()).topk(1)[1][0][0].cpu().item()\n",
    "cam = FDCAM(model=model, target_layers=target_layers, use_cuda='0')\n",
    "grayscale_cam = cam(input_tensor=input_tensor, target_category=target_category,threshold=0.95)\n",
    "grayscale_cam = grayscale_cam[0, :]\n",
    "visualization = show_cam_on_image(img_show/255,grayscale_cam,use_rgb = True)\n",
    "ShowImage(visualization)"
   ]
  }
 ],
 "metadata": {
  "interpreter": {
   "hash": "96df08144a382c6faca80efeea535a829ea2b41421e549ee9b58f242e5eaebf9"
  },
  "kernelspec": {
   "display_name": "Python 3.9.7 64-bit ('gradcam': conda)",
   "language": "python",
   "name": "python3"
  },
  "language_info": {
   "codemirror_mode": {
    "name": "ipython",
    "version": 3
   },
   "file_extension": ".py",
   "mimetype": "text/x-python",
   "name": "python",
   "nbconvert_exporter": "python",
   "pygments_lexer": "ipython3",
   "version": "3.8.5"
  },
  "orig_nbformat": 4
 },
 "nbformat": 4,
 "nbformat_minor": 2
}
